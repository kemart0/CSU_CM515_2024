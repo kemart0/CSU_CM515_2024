{
  "nbformat": 4,
  "nbformat_minor": 0,
  "metadata": {
    "colab": {
      "provenance": [],
      "include_colab_link": true
    },
    "kernelspec": {
      "name": "python3",
      "display_name": "Python 3"
    },
    "language_info": {
      "name": "python"
    }
  },
  "cells": [
    {
      "cell_type": "markdown",
      "metadata": {
        "id": "view-in-github",
        "colab_type": "text"
      },
      "source": [
        "<a href=\"https://colab.research.google.com/github/kemart0/CSU_CM515_2024/blob/main/KM_Module14_Homework.ipynb\" target=\"_parent\"><img src=\"https://colab.research.google.com/assets/colab-badge.svg\" alt=\"Open In Colab\"/></a>"
      ]
    },
    {
      "cell_type": "code",
      "execution_count": 6,
      "metadata": {
        "colab": {
          "base_uri": "https://localhost:8080/"
        },
        "id": "jviYcubNtZdz",
        "outputId": "7d479937-cc5c-4438-a6cb-43ddefa4ecf8"
      },
      "outputs": [
        {
          "output_type": "stream",
          "name": "stdout",
          "text": [
            "[[16], [2], [2], [4], [6], [4], [10], [12]]\n"
          ]
        },
        {
          "output_type": "execute_result",
          "data": {
            "text/plain": [
              "[2, 4, 6, 4, 10, 12, 6, 4, 2]"
            ]
          },
          "metadata": {},
          "execution_count": 6
        }
      ],
      "source": [
        "## Homework Questions\n",
        "# 1. Convert the following code into a loop\n",
        "\n",
        "\n",
        "x = [1,1,2,3,2,5,6,7,8]\n",
        "\n",
        "def weird_number_loop (x):\n",
        "  new_list=[]\n",
        "  for i in x:\n",
        "    if i != 7:\n",
        "      value= [i * 2]\n",
        "      new_list.append(value)\n",
        "  rearranged_list = [new_list[-1]] + new_list[:-1] #this made my brain hurt\n",
        "  return rearranged_list\n",
        "\n",
        "\n",
        "print(weird_number_loop(x))\n",
        "\n",
        "\n",
        "#these numbers in brackets better refer to positions in the list that was given at the start otherwise I just did all that for nothing\n",
        "x[8] = x[0] * 2\n",
        "x[0] = x[1] * 2\n",
        "x[1] = x[2] * 2\n",
        "x[2] = x[3] * 2\n",
        "x[3] = x[4] * 2\n",
        "x[4] = x[5] * 2\n",
        "x[5] = x[6] * 2\n",
        "x[7] = x[8] * 2\n",
        "\n",
        "x"
      ]
    },
    {
      "cell_type": "code",
      "source": [
        "#loading in the file by cloning the github so I can access the file\n",
        "!git clone https://github.com/Colorado-State-University-CMB/CM515-course-2024.git"
      ],
      "metadata": {
        "id": "MGD7tAljLjFI",
        "colab": {
          "base_uri": "https://localhost:8080/"
        },
        "outputId": "fe012699-4045-4c80-8ca8-0dc768bc99d6"
      },
      "execution_count": 7,
      "outputs": [
        {
          "output_type": "stream",
          "name": "stdout",
          "text": [
            "Cloning into 'CM515-course-2024'...\n",
            "remote: Enumerating objects: 1049, done.\u001b[K\n",
            "remote: Counting objects: 100% (227/227), done.\u001b[K\n",
            "remote: Compressing objects: 100% (38/38), done.\u001b[K\n",
            "remote: Total 1049 (delta 201), reused 189 (delta 189), pack-reused 822\u001b[K\n",
            "Receiving objects: 100% (1049/1049), 252.47 MiB | 27.58 MiB/s, done.\n",
            "Resolving deltas: 100% (558/558), done.\n",
            "Updating files: 100% (168/168), done.\n"
          ]
        }
      ]
    },
    {
      "cell_type": "code",
      "source": [
        "# 2. load in the GAPDH template strant from the fasta provided here https://github.com/Colorado-State-University-CMB/CM515-course-2024/tree/main/modules/14_Google_Colab\n",
        "path = \"/content/CM515-course-2024/modules/14_Google_Colab/\"\n",
        "with open(path + 'gapdh.fasta', 'r') as f:\n",
        "    gapdh_seq = f.read()\n",
        "    print(gapdh_seq)\n",
        "\n"
      ],
      "metadata": {
        "id": "UjGLWNLqt29c",
        "outputId": "0b2f7260-c6e4-4c34-d42f-c9980ca40e95",
        "colab": {
          "base_uri": "https://localhost:8080/"
        }
      },
      "execution_count": 8,
      "outputs": [
        {
          "output_type": "stream",
          "name": "stdout",
          "text": [
            ">mm_GAPDH_template_strand\n",
            "GGTGGGTGCAGCGAACTTTATTGATGGTATTCAAGAGAGTAGGGAGGGCTCCCTAGGCCCCTCCTGTTATTATGGGGGTCTGGGATGGAAATTGTGAGGGAGATGCTCAGTGTTGGGGGCCGAGTTGGGATAGGGCCTCTCTTGCTCAGTGTCCTTGCTGGGGTGGGTGGTCCAGGGTTTCTTACTCCTTGGAGGCCATGTAGGCCATGAGGTCCACCACCCTGTTGCTGTAGCCGTATTCATTGTCATACCAGGAAATGAGCTTGACAAAGTTGTCATTGAGAGCAATGCCAGCCCCGGCATCGAAGGTGGAAGAGTGGGAGTTGCTGTTGAAGTCGCAGGAGACAACCTGGTCCTCAGTGTAGCCCAAGATGCCCTTCAGTGGGCCCTCAGATGCCTGCTTCCCATTCTCGGCCTTGACTGTGCCGTTGAATTTGCCGTGAGTGGAGTCATACTGGAACATGTAGACCATGTAGTTGAGGTCAATGAAGGGGTCGTTGATGGCAACAATCTCCACTTTGCCACTGCAAATGGCAGCCCTGGTGACCAGGCGCCCAATACGGCCAAATCCGTTCACACCGACCTTCACCATTTTGTCCCTCGTGCC\n"
          ]
        }
      ]
    },
    {
      "cell_type": "code",
      "source": [
        "#making the codon library\n",
        "path = \"/content/CM515-course-2024/modules/14_Google_Colab/\"\n",
        "with open(path + 'codon_table.csv', 'r') as f:\n",
        "  f_list = f.read()\n",
        "f_list = f_list.split(\"\\n\") #split based on /n (covert characters into list based on defined variable, and then add in commas instead\n",
        "f_list = [x.split(\",\") for x in f_list]\n",
        "codontab = dict(f_list)\n",
        "codontab"
      ],
      "metadata": {
        "id": "4Wx61RixN4nk",
        "colab": {
          "base_uri": "https://localhost:8080/"
        },
        "outputId": "164fd395-3ed6-44e7-aee2-086f5a6aae9c"
      },
      "execution_count": 9,
      "outputs": [
        {
          "output_type": "execute_result",
          "data": {
            "text/plain": [
              "{'UCA': 'S',\n",
              " 'UCC': 'S',\n",
              " 'UCG': 'S',\n",
              " 'UCU': 'S',\n",
              " 'UUC': 'F',\n",
              " 'UUU': 'F',\n",
              " 'UUA': 'L',\n",
              " 'UUG': 'L',\n",
              " 'UAC': 'Y',\n",
              " 'UAU': 'Y',\n",
              " 'UAA': '*',\n",
              " 'UAG': '*',\n",
              " 'UGC': 'C',\n",
              " 'UGU': 'C',\n",
              " 'UGA': '*',\n",
              " 'UGG': 'W',\n",
              " 'CUA': 'L',\n",
              " 'CUC': 'L',\n",
              " 'CUG': 'L',\n",
              " 'CUU': 'L',\n",
              " 'CCA': 'P',\n",
              " 'CCC': 'P',\n",
              " 'CCG': 'P',\n",
              " 'CCU': 'P',\n",
              " 'CAC': 'H',\n",
              " 'CAU': 'H',\n",
              " 'CAA': 'Q',\n",
              " 'CAG': 'Q',\n",
              " 'CGA': 'R',\n",
              " 'CGC': 'R',\n",
              " 'CGG': 'R',\n",
              " 'CGU': 'R',\n",
              " 'AUA': 'I',\n",
              " 'AUC': 'I',\n",
              " 'AUU': 'I',\n",
              " 'AUG': 'M',\n",
              " 'ACA': 'T',\n",
              " 'ACC': 'T',\n",
              " 'ACG': 'T',\n",
              " 'ACU': 'T',\n",
              " 'AAC': 'N',\n",
              " 'AAU': 'N',\n",
              " 'AAA': 'K',\n",
              " 'AAG': 'K',\n",
              " 'AGC': 'S',\n",
              " 'AGU': 'S',\n",
              " 'AGA': 'R',\n",
              " 'AGG': 'R',\n",
              " 'GUA': 'V',\n",
              " 'GUC': 'V',\n",
              " 'GUG': 'V',\n",
              " 'GUU': 'V',\n",
              " 'GCA': 'A',\n",
              " 'GCC': 'A',\n",
              " 'GCG': 'A',\n",
              " 'GCU': 'A',\n",
              " 'GAC': 'D',\n",
              " 'GAU': 'D',\n",
              " 'GAA': 'E',\n",
              " 'GAG': 'E',\n",
              " 'GGA': 'G',\n",
              " 'GGC': 'G',\n",
              " 'GGG': 'G',\n",
              " 'GGU': 'G'}"
            ]
          },
          "metadata": {},
          "execution_count": 9
        }
      ]
    },
    {
      "cell_type": "code",
      "source": [
        "# 3. calculate the GC content of the strand (report as a percenatage)\n",
        "def GC_content_percent(sequence):\n",
        "  gc_count=sequence.count('G')+ sequence.count('C')\n",
        "  return (gc_count/len(sequence))*100\n",
        "GC_content_percent(gapdh_seq)\n"
      ],
      "metadata": {
        "id": "rDTwXprCt3BC",
        "colab": {
          "base_uri": "https://localhost:8080/"
        },
        "outputId": "431160f1-ef69-4590-d2e4-cae96e570b4e"
      },
      "execution_count": 10,
      "outputs": [
        {
          "output_type": "execute_result",
          "data": {
            "text/plain": [
              "52.29067930489732"
            ]
          },
          "metadata": {},
          "execution_count": 10
        }
      ]
    },
    {
      "cell_type": "code",
      "source": [
        "# 4. Create a function that takes in a dna sequence and finds the reverse complement of it\n",
        "def reverse_complement(sequence):\n",
        "  complement = {'A': 'T', 'T': 'A', 'G': 'C', 'C': 'G'} #make a sort of dictionary\n",
        "  reverse_comp= '' #an empty string to put the loop result in\n",
        "  for i in sequence[::-1]: #going in the reverse of the sequence\n",
        "    reverse_comp += complement.get(i,i) #replace the nucleotide using the dictionary\n",
        "  return reverse_comp\n",
        "\n",
        "reverse_complement(gapdh_seq)\n",
        "\n",
        "#this works but returns the reverse of the FASTA file header at the end and I want to remove it\n",
        "def reverse_complement_v2(sequence):\n",
        "  lines = sequence.split('\\n') #use break after header to separate it from the sequence\n",
        "  sequence = ''.join(lines[1:]) #start the sequence on the next line by making an empty string and appending the sequence without the first line\n",
        "  complement = {'A': 'T', 'T': 'A', 'G': 'C', 'C': 'G'}\n",
        "  reverse_comp_2= ''\n",
        "  for i in sequence[::-1]:\n",
        "    reverse_comp_2 += complement.get(i,i)\n",
        "  return reverse_comp_2\n",
        "\n",
        "reverse_complement_v2(gapdh_seq)"
      ],
      "metadata": {
        "id": "j-3QxgN9t3Es",
        "colab": {
          "base_uri": "https://localhost:8080/",
          "height": 104
        },
        "outputId": "0725a510-deab-42b5-ac31-4950107bac50"
      },
      "execution_count": 11,
      "outputs": [
        {
          "output_type": "execute_result",
          "data": {
            "text/plain": [
              "'GGCACGAGGGACAAAATGGTGAAGGTCGGTGTGAACGGATTTGGCCGTATTGGGCGCCTGGTCACCAGGGCTGCCATTTGCAGTGGCAAAGTGGAGATTGTTGCCATCAACGACCCCTTCATTGACCTCAACTACATGGTCTACATGTTCCAGTATGACTCCACTCACGGCAAATTCAACGGCACAGTCAAGGCCGAGAATGGGAAGCAGGCATCTGAGGGCCCACTGAAGGGCATCTTGGGCTACACTGAGGACCAGGTTGTCTCCTGCGACTTCAACAGCAACTCCCACTCTTCCACCTTCGATGCCGGGGCTGGCATTGCTCTCAATGACAACTTTGTCAAGCTCATTTCCTGGTATGACAATGAATACGGCTACAGCAACAGGGTGGTGGACCTCATGGCCTACATGGCCTCCAAGGAGTAAGAAACCCTGGACCACCCACCCCAGCAAGGACACTGAGCAAGAGAGGCCCTATCCCAACTCGGCCCCCAACACTGAGCATCTCCCTCACAATTTCCATCCCAGACCCCCATAATAACAGGAGGGGCCTAGGGAGCCCTCCCTACTCTCTTGAATACCATCAATAAAGTTCGCTGCACCCACC'"
            ],
            "application/vnd.google.colaboratory.intrinsic+json": {
              "type": "string"
            }
          },
          "metadata": {},
          "execution_count": 11
        }
      ]
    },
    {
      "cell_type": "code",
      "source": [
        "# 6. convert to the mRNA sequence\n",
        "def mRNA_convert (sequence):\n",
        "  lines = sequence.split('\\n')\n",
        "  sequence = ''.join(lines[1:])\n",
        "  mRNA_seq= sequence.replace (\"T\", \"U\")\n",
        "  return mRNA_seq\n",
        "\n",
        "gapdh_mRNAseq=mRNA_convert(gapdh_seq)\n",
        "print(gapdh_mRNAseq)"
      ],
      "metadata": {
        "id": "kOCFY42Qt3K8",
        "colab": {
          "base_uri": "https://localhost:8080/"
        },
        "outputId": "a2ac8877-7dab-4858-97e0-7b869bd45a4e"
      },
      "execution_count": 12,
      "outputs": [
        {
          "output_type": "stream",
          "name": "stdout",
          "text": [
            "GGUGGGUGCAGCGAACUUUAUUGAUGGUAUUCAAGAGAGUAGGGAGGGCUCCCUAGGCCCCUCCUGUUAUUAUGGGGGUCUGGGAUGGAAAUUGUGAGGGAGAUGCUCAGUGUUGGGGGCCGAGUUGGGAUAGGGCCUCUCUUGCUCAGUGUCCUUGCUGGGGUGGGUGGUCCAGGGUUUCUUACUCCUUGGAGGCCAUGUAGGCCAUGAGGUCCACCACCCUGUUGCUGUAGCCGUAUUCAUUGUCAUACCAGGAAAUGAGCUUGACAAAGUUGUCAUUGAGAGCAAUGCCAGCCCCGGCAUCGAAGGUGGAAGAGUGGGAGUUGCUGUUGAAGUCGCAGGAGACAACCUGGUCCUCAGUGUAGCCCAAGAUGCCCUUCAGUGGGCCCUCAGAUGCCUGCUUCCCAUUCUCGGCCUUGACUGUGCCGUUGAAUUUGCCGUGAGUGGAGUCAUACUGGAACAUGUAGACCAUGUAGUUGAGGUCAAUGAAGGGGUCGUUGAUGGCAACAAUCUCCACUUUGCCACUGCAAAUGGCAGCCCUGGUGACCAGGCGCCCAAUACGGCCAAAUCCGUUCACACCGACCUUCACCAUUUUGUCCCUCGUGCC\n"
          ]
        }
      ]
    },
    {
      "cell_type": "code",
      "source": [
        "# 5. Convert the GAPDH template strand to the coding strand\n",
        "#codon table is in the mRNA sequence and I need that for this so I an going to feed in the mRNA sequence instead of the DNA sequence\n",
        "#How I want to approach this: Find start codon (AUG), and then after that start codon, break it up into 3bp codon chunks, refer it to the codon table, and stop it when it makes a stop codon (asterisk in the codon table)\n",
        "def coding_strand(sequence):\n",
        "  start_codon=\"AUG\"\n",
        "  start_seq=sequence.find(start_codon) #.find returns the position of the codon in the string\n",
        "  if start_seq !=-1: #this makes sure the start codon is actually in the sequence\n",
        "    codons=[] #make an empty list to store the codons starting after the start codon, square brackets make it a list we can refer back to while '' is for strings\n",
        "    for i in range(start_seq, len(sequence), 3): #go through seq starting at start codon and make a list by looping through taking nucleotides in 3 bp intervals, adding each codon to the list\n",
        "      codon = sequence[i:i+3]\n",
        "      codons.append(codon)\n",
        "      if codon in codontab and codontab[codon] == '*':#add another loop comparing codons to codon dictionary\n",
        "                break\n",
        "      codons.append(codon)\n",
        "    return ''.join(codons)\n",
        "\n",
        "gapdh_coding=coding_strand(gapdh_mRNAseq)\n",
        "\n",
        "#just checking that it is the right length/it's returning the right thing\n",
        "print(len(gapdh_mRNAseq))\n",
        "print(len(gapdh_coding))\n",
        "\n",
        "\n",
        "\n"
      ],
      "metadata": {
        "id": "Zmgg9BzGt3IK",
        "colab": {
          "base_uri": "https://localhost:8080/"
        },
        "outputId": "20290c7f-b8fa-483c-c32f-3c0bc46a0df3"
      },
      "execution_count": 13,
      "outputs": [
        {
          "output_type": "stream",
          "name": "stdout",
          "text": [
            "607\n",
            "63\n"
          ]
        }
      ]
    },
    {
      "cell_type": "code",
      "source": [
        "# 7. Translate the mRNA\n",
        "# make a function that finds the start codon (AUG), then translates the protein until a stop codon is reached.\n",
        "# stop codons are denoted as \"*\" in the codon table file provided\n",
        "def translate_mRNA(sequence):\n",
        "    start_codon = \"AUG\"\n",
        "    amino_acids = [] #make an empty list for the codons to translate amino acids, needs to be outside the for loop or it will make a new list for every single codon\n",
        "    start_seq = sequence.find(start_codon)  # .find returns the position of the codon in the string\n",
        "    if start_seq != -1:  # this makes sure the start codon is actually in the sequence\n",
        "        codons = []  # make an empty list to store the codons starting after the start codon, square brackets make it a list we can refer back to while '' is for strings\n",
        "        for i in range(start_seq, len(sequence), 3):  # go through seq starting at start codon and make a list by looping through taking nucleotides in 3 bp intervals, adding each codon to the list\n",
        "            codon = sequence[i:i + 3]\n",
        "            codons.append(codon)\n",
        "            print(codons) #just trying to make sure that it is stopping actually at a stop codon and it is... maybe the problem is that its not starting at the right AUG?\n",
        "            if codon in codontab and codontab[codon] == '*':  # add another loop comparing codons to codon table\n",
        "                break  # stop sequence after stop codon\n",
        "            amino_acid = codontab.get(codon, '?')  # ? for unknown codons\n",
        "            amino_acids.append(amino_acid)\n",
        "        return amino_acids\n",
        "    else:\n",
        "        return []\n",
        "\n",
        "\n",
        "\n",
        "translate_mRNA(gapdh_mRNAseq)\n"
      ],
      "metadata": {
        "id": "cUEL3pVqt3PJ",
        "colab": {
          "base_uri": "https://localhost:8080/"
        },
        "outputId": "55b990cc-30b3-4fb7-e023-6336ed756cfe"
      },
      "execution_count": 14,
      "outputs": [
        {
          "output_type": "stream",
          "name": "stdout",
          "text": [
            "['AUG']\n",
            "['AUG', 'GUA']\n",
            "['AUG', 'GUA', 'UUC']\n",
            "['AUG', 'GUA', 'UUC', 'AAG']\n",
            "['AUG', 'GUA', 'UUC', 'AAG', 'AGA']\n",
            "['AUG', 'GUA', 'UUC', 'AAG', 'AGA', 'GUA']\n",
            "['AUG', 'GUA', 'UUC', 'AAG', 'AGA', 'GUA', 'GGG']\n",
            "['AUG', 'GUA', 'UUC', 'AAG', 'AGA', 'GUA', 'GGG', 'AGG']\n",
            "['AUG', 'GUA', 'UUC', 'AAG', 'AGA', 'GUA', 'GGG', 'AGG', 'GCU']\n",
            "['AUG', 'GUA', 'UUC', 'AAG', 'AGA', 'GUA', 'GGG', 'AGG', 'GCU', 'CCC']\n",
            "['AUG', 'GUA', 'UUC', 'AAG', 'AGA', 'GUA', 'GGG', 'AGG', 'GCU', 'CCC', 'UAG']\n"
          ]
        },
        {
          "output_type": "execute_result",
          "data": {
            "text/plain": [
              "['M', 'V', 'F', 'K', 'R', 'V', 'G', 'R', 'A', 'P']"
            ]
          },
          "metadata": {},
          "execution_count": 14
        }
      ]
    },
    {
      "cell_type": "code",
      "source": [
        "# 8. Go to this website, select 2 problems and complete them https://rosalind.info/problems/list-view/"
      ],
      "metadata": {
        "id": "K6jGkxf2t3Sh"
      },
      "execution_count": 15,
      "outputs": []
    },
    {
      "cell_type": "code",
      "source": [
        "# Problem 1\n",
        "#Given two strings s and t of equal length, the Hamming distance between s and t, denoted dH(s,t), is the number of corresponding symbols that differ in s and t\n",
        "#Given: Two DNA strings s and t of equal length (not exceeding 1 kbp).\n",
        "#Return: The Hamming distance dH(s,t)\n",
        "\n",
        "s= \"GAGCCTACTAACGGGAT\"\n",
        "t= \"CATCGTAATGACGGCCT\"\n",
        "\n",
        "#approach: Make strings into lists, assign value if mismatches and count\n",
        "\n",
        "def hammy_dist(s,t):\n",
        "  mismatches=0 #start the count\n",
        "  if len(s)==len(t):\n",
        "    for i in range(len(s)):\n",
        "      if s[i] != t[i]:\n",
        "        mismatches +=1\n",
        "    return mismatches\n",
        "\n",
        "\n",
        "hammy_dist(s,t)\n",
        "\n"
      ],
      "metadata": {
        "colab": {
          "base_uri": "https://localhost:8080/"
        },
        "id": "K8FqhuNB2YgN",
        "outputId": "c563d759-c51a-455b-f403-0c8658962d53"
      },
      "execution_count": 16,
      "outputs": [
        {
          "output_type": "execute_result",
          "data": {
            "text/plain": [
              "7"
            ]
          },
          "metadata": {},
          "execution_count": 16
        }
      ]
    },
    {
      "cell_type": "code",
      "source": [
        "# Problem 2\n",
        "#Given two strings s and t, t is a substring of s if t is contained as a contiguous collection of symbols in s(as a result, t must be no longer than s).\n",
        "#The position of a symbol in a string is the total number of symbols found to its left, including itself (e.g., the positions of all occurrences of 'U' in \"AUGCUUCAGAAAGGUCUUACG\" are 2, 5, 6, 15, 17, and 18). The symbol at position i\n",
        "# of s is denoted by s[i]\n",
        "# A substring of s can be represented as s[j:k], where j and k represent the starting and ending positions of the substring in s;\n",
        "#for example, if s= \"AUGCUUCAGAAAGGUCUUACG\", then s[2:5]= \"UGCU\".\n",
        "#The location of a substring s[j:k]is its beginning position j; note that t will have multiple locations in s if it occurs more than once as a substring of s\n",
        "\n",
        "#Given: Two DNA strings s and t (each of length at most 1 kbp).\n",
        "#Return: All locations of t as a substring of s (I also added the number of times it occurred in the sequence)\n",
        "s=\"GATATATGCATATACTT\"\n",
        "t=\"ATAT\"\n",
        "#approach: use .find? and make a list of all the start positions, return the len(positions), positions\n",
        "def motif_finder(s,t): #s is the long sequence and t is the motif\n",
        "    positions = []\n",
        "    start = 0\n",
        "    while True: #while loop continually searches sequence\n",
        "        position = s.find(t, start)\n",
        "        if position == -1: #if position ==-1 that means it isn't found anymore, then we want it to stop bc otherwise the while loop will keep going\n",
        "            break\n",
        "        positions.append(position) #make a list of the positions\n",
        "        start = position + 1 #this makes the search start up again after the last position found, so it doesn't search the sequence it already searched, and doesn't keep finding the same sequence\n",
        "    return len(positions), positions\n",
        "\n",
        "motif_finder(s,t)\n",
        "\n",
        "#I want to use this to find the number of start codons in the gapdh sequence, i am curious to see which one my earlier code picked up\n",
        "t2=\"AUG\"\n",
        "s2=\"GGUGGGUGCAGCGAACUUUAUUGAUGGUAUUCAAGAGAGUAGGGAGGGCUCCCUAGGCCCCUCCUGUUAUUAUGGGGGUCUGGGAUGGAAAUUGUGAGGGAGAUGCUCAGUGUUGGGGGCCGAGUUGGGAUAGGGCCUCUCUUGCUCAGUGUCCUUGCUGGGGUGGGUGGUCCAGGGUUUCUUACUCCUUGGAGGCCAUGUAGGCCAUGAGGUCCACCACCCUGUUGCUGUAGCCGUAUUCAUUGUCAUACCAGGAAAUGAGCUUGACAAAGUUGUCAUUGAGAGCAAUGCCAGCCCCGGCAUCGAAGGUGGAAGAGUGGGAGUUGCUGUUGAAGUCGCAGGAGACAACCUGGUCCUCAGUGUAGCCCAAGAUGCCCUUCAGUGGGCCCUCAGAUGCCUGCUUCCCAUUCUCGGCCUUGACUGUGCCGUUGAAUUUGCCGUGAGUGGAGUCAUACUGGAACAUGUAGACCAUGUAGUUGAGGUCAAUGAAGGGGUCGUUGAUGGCAACAAUCUCCACUUUGCCACUGCAAAUGGCAGCCCUGGUGACCAGGCGCCCAAUACGGCCAAAUCCGUUCACACCGACCUUCACCAUUUUGUCCCUCGUGCC\"\n",
        "motif_finder(s2, t2)\n",
        "#i think it was actually the first one, but idk why my translated sequence is so short\n",
        "\n"
      ],
      "metadata": {
        "colab": {
          "base_uri": "https://localhost:8080/"
        },
        "id": "fxHRzuNqcxDX",
        "outputId": "586ec95d-4f57-4f66-dba2-a944691f3b29"
      },
      "execution_count": 26,
      "outputs": [
        {
          "output_type": "execute_result",
          "data": {
            "text/plain": [
              "(15, [23, 71, 84, 102, 197, 206, 257, 287, 371, 393, 461, 470, 485, 500, 530])"
            ]
          },
          "metadata": {},
          "execution_count": 26
        }
      ]
    }
  ]
}